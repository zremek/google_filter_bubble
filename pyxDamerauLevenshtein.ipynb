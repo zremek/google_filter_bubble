{
 "cells": [
  {
   "cell_type": "code",
   "execution_count": 1,
   "metadata": {},
   "outputs": [],
   "source": [
    "from pyxdameraulevenshtein import damerau_levenshtein_distance\n",
    "import pandas as pd"
   ]
  },
  {
   "cell_type": "code",
   "execution_count": 2,
   "metadata": {},
   "outputs": [
    {
     "data": {
      "text/html": [
       "<div>\n",
       "<style scoped>\n",
       "    .dataframe tbody tr th:only-of-type {\n",
       "        vertical-align: middle;\n",
       "    }\n",
       "\n",
       "    .dataframe tbody tr th {\n",
       "        vertical-align: top;\n",
       "    }\n",
       "\n",
       "    .dataframe thead th {\n",
       "        text-align: right;\n",
       "    }\n",
       "</style>\n",
       "<table border=\"1\" class=\"dataframe\">\n",
       "  <thead>\n",
       "    <tr style=\"text-align: right;\">\n",
       "      <th></th>\n",
       "      <th>id</th>\n",
       "      <th>incognito</th>\n",
       "      <th>normal</th>\n",
       "      <th>dist_osa</th>\n",
       "      <th>dist_dl</th>\n",
       "    </tr>\n",
       "  </thead>\n",
       "  <tbody>\n",
       "    <tr>\n",
       "      <th>0</th>\n",
       "      <td>aberrational_arthropods</td>\n",
       "      <td>UTBIV</td>\n",
       "      <td>BUJIV</td>\n",
       "      <td>3</td>\n",
       "      <td>3</td>\n",
       "    </tr>\n",
       "    <tr>\n",
       "      <th>1</th>\n",
       "      <td>alphabetic_shark</td>\n",
       "      <td>LWRQD</td>\n",
       "      <td>LDRWQ</td>\n",
       "      <td>3</td>\n",
       "      <td>3</td>\n",
       "    </tr>\n",
       "    <tr>\n",
       "      <th>2</th>\n",
       "      <td>arthromeric_hyracotherium</td>\n",
       "      <td>VIA2O</td>\n",
       "      <td>VIA32</td>\n",
       "      <td>2</td>\n",
       "      <td>2</td>\n",
       "    </tr>\n",
       "    <tr>\n",
       "      <th>3</th>\n",
       "      <td>asphyxiated_indigobunting</td>\n",
       "      <td>IV4MA</td>\n",
       "      <td>IV4MA</td>\n",
       "      <td>0</td>\n",
       "      <td>0</td>\n",
       "    </tr>\n",
       "    <tr>\n",
       "      <th>4</th>\n",
       "      <td>auroral_clingfish</td>\n",
       "      <td>IV3AM</td>\n",
       "      <td>VI3AM</td>\n",
       "      <td>1</td>\n",
       "      <td>1</td>\n",
       "    </tr>\n",
       "  </tbody>\n",
       "</table>\n",
       "</div>"
      ],
      "text/plain": [
       "                          id incognito normal  dist_osa  dist_dl\n",
       "0    aberrational_arthropods     UTBIV  BUJIV         3        3\n",
       "1           alphabetic_shark     LWRQD  LDRWQ         3        3\n",
       "2  arthromeric_hyracotherium     VIA2O  VIA32         2        2\n",
       "3  asphyxiated_indigobunting     IV4MA  IV4MA         0        0\n",
       "4          auroral_clingfish     IV3AM  VI3AM         1        1"
      ]
     },
     "execution_count": 2,
     "metadata": {},
     "output_type": "execute_result"
    }
   ],
   "source": [
    "df = pd.read_csv('to_python.csv')\n",
    "df.head()"
   ]
  },
  {
   "cell_type": "code",
   "execution_count": 3,
   "metadata": {},
   "outputs": [
    {
     "data": {
      "text/html": [
       "<div>\n",
       "<style scoped>\n",
       "    .dataframe tbody tr th:only-of-type {\n",
       "        vertical-align: middle;\n",
       "    }\n",
       "\n",
       "    .dataframe tbody tr th {\n",
       "        vertical-align: top;\n",
       "    }\n",
       "\n",
       "    .dataframe thead th {\n",
       "        text-align: right;\n",
       "    }\n",
       "</style>\n",
       "<table border=\"1\" class=\"dataframe\">\n",
       "  <thead>\n",
       "    <tr style=\"text-align: right;\">\n",
       "      <th></th>\n",
       "      <th>id</th>\n",
       "      <th>incognito</th>\n",
       "      <th>normal</th>\n",
       "      <th>dist_osa</th>\n",
       "      <th>dist_dl</th>\n",
       "      <th>pyxdameraulevenshtein</th>\n",
       "    </tr>\n",
       "  </thead>\n",
       "  <tbody>\n",
       "    <tr>\n",
       "      <th>0</th>\n",
       "      <td>aberrational_arthropods</td>\n",
       "      <td>UTBIV</td>\n",
       "      <td>BUJIV</td>\n",
       "      <td>3</td>\n",
       "      <td>3</td>\n",
       "      <td>3</td>\n",
       "    </tr>\n",
       "    <tr>\n",
       "      <th>1</th>\n",
       "      <td>alphabetic_shark</td>\n",
       "      <td>LWRQD</td>\n",
       "      <td>LDRWQ</td>\n",
       "      <td>3</td>\n",
       "      <td>3</td>\n",
       "      <td>3</td>\n",
       "    </tr>\n",
       "    <tr>\n",
       "      <th>2</th>\n",
       "      <td>arthromeric_hyracotherium</td>\n",
       "      <td>VIA2O</td>\n",
       "      <td>VIA32</td>\n",
       "      <td>2</td>\n",
       "      <td>2</td>\n",
       "      <td>2</td>\n",
       "    </tr>\n",
       "    <tr>\n",
       "      <th>3</th>\n",
       "      <td>asphyxiated_indigobunting</td>\n",
       "      <td>IV4MA</td>\n",
       "      <td>IV4MA</td>\n",
       "      <td>0</td>\n",
       "      <td>0</td>\n",
       "      <td>0</td>\n",
       "    </tr>\n",
       "    <tr>\n",
       "      <th>4</th>\n",
       "      <td>auroral_clingfish</td>\n",
       "      <td>IV3AM</td>\n",
       "      <td>VI3AM</td>\n",
       "      <td>1</td>\n",
       "      <td>1</td>\n",
       "      <td>1</td>\n",
       "    </tr>\n",
       "  </tbody>\n",
       "</table>\n",
       "</div>"
      ],
      "text/plain": [
       "                          id incognito normal  dist_osa  dist_dl  \\\n",
       "0    aberrational_arthropods     UTBIV  BUJIV         3        3   \n",
       "1           alphabetic_shark     LWRQD  LDRWQ         3        3   \n",
       "2  arthromeric_hyracotherium     VIA2O  VIA32         2        2   \n",
       "3  asphyxiated_indigobunting     IV4MA  IV4MA         0        0   \n",
       "4          auroral_clingfish     IV3AM  VI3AM         1        1   \n",
       "\n",
       "   pyxdameraulevenshtein  \n",
       "0                      3  \n",
       "1                      3  \n",
       "2                      2  \n",
       "3                      0  \n",
       "4                      1  "
      ]
     },
     "execution_count": 3,
     "metadata": {},
     "output_type": "execute_result"
    }
   ],
   "source": [
    "df[\"pyxdameraulevenshtein\"] = df.apply(\n",
    "    lambda row : damerau_levenshtein_distance(\n",
    "        row[\"incognito\"],\n",
    "        row[\"normal\"]),\n",
    "    axis = 1)\n",
    "\n",
    "df.head()"
   ]
  },
  {
   "cell_type": "code",
   "execution_count": 4,
   "metadata": {},
   "outputs": [
    {
     "data": {
      "text/plain": [
       "True    73\n",
       "dtype: int64"
      ]
     },
     "execution_count": 4,
     "metadata": {},
     "output_type": "execute_result"
    }
   ],
   "source": [
    "(df[\"dist_osa\"] == df[\"pyxdameraulevenshtein\"]).value_counts()"
   ]
  },
  {
   "cell_type": "code",
   "execution_count": null,
   "metadata": {},
   "outputs": [],
   "source": [
    "# The \"osa\" method form R package stringdist gave results equal \n",
    "# to method implemented in damerau_levenshtein_distance \n",
    "# form pyxdameraulevenshtein Python package"
   ]
  }
 ],
 "metadata": {
  "kernelspec": {
   "display_name": "Python 3",
   "language": "python",
   "name": "python3"
  },
  "language_info": {
   "codemirror_mode": {
    "name": "ipython",
    "version": 3
   },
   "file_extension": ".py",
   "mimetype": "text/x-python",
   "name": "python",
   "nbconvert_exporter": "python",
   "pygments_lexer": "ipython3",
   "version": "3.6.8"
  }
 },
 "nbformat": 4,
 "nbformat_minor": 2
}
